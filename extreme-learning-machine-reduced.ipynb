{
 "cells": [
  {
   "cell_type": "code",
   "execution_count": 1,
   "metadata": {
    "_cell_guid": "3527084c-c9f4-4820-b14d-c140e25e9ce7",
    "_uuid": "5a0e72ef9e856b286994a2adda671bdea6461269",
    "scrolled": false
   },
   "outputs": [
    {
     "data": {
      "text/html": [
       "<div>\n",
       "<style scoped>\n",
       "    .dataframe tbody tr th:only-of-type {\n",
       "        vertical-align: middle;\n",
       "    }\n",
       "\n",
       "    .dataframe tbody tr th {\n",
       "        vertical-align: top;\n",
       "    }\n",
       "\n",
       "    .dataframe thead th {\n",
       "        text-align: right;\n",
       "    }\n",
       "</style>\n",
       "<table border=\"1\" class=\"dataframe\">\n",
       "  <thead>\n",
       "    <tr style=\"text-align: right;\">\n",
       "      <th></th>\n",
       "      <th>label</th>\n",
       "      <th>pixel0</th>\n",
       "      <th>pixel1</th>\n",
       "      <th>pixel2</th>\n",
       "      <th>pixel3</th>\n",
       "      <th>pixel4</th>\n",
       "      <th>pixel5</th>\n",
       "      <th>pixel6</th>\n",
       "      <th>pixel7</th>\n",
       "      <th>pixel8</th>\n",
       "      <th>...</th>\n",
       "      <th>pixel774</th>\n",
       "      <th>pixel775</th>\n",
       "      <th>pixel776</th>\n",
       "      <th>pixel777</th>\n",
       "      <th>pixel778</th>\n",
       "      <th>pixel779</th>\n",
       "      <th>pixel780</th>\n",
       "      <th>pixel781</th>\n",
       "      <th>pixel782</th>\n",
       "      <th>pixel783</th>\n",
       "    </tr>\n",
       "  </thead>\n",
       "  <tbody>\n",
       "    <tr>\n",
       "      <th>0</th>\n",
       "      <td>1</td>\n",
       "      <td>0</td>\n",
       "      <td>0</td>\n",
       "      <td>0</td>\n",
       "      <td>0</td>\n",
       "      <td>0</td>\n",
       "      <td>0</td>\n",
       "      <td>0</td>\n",
       "      <td>0</td>\n",
       "      <td>0</td>\n",
       "      <td>...</td>\n",
       "      <td>0</td>\n",
       "      <td>0</td>\n",
       "      <td>0</td>\n",
       "      <td>0</td>\n",
       "      <td>0</td>\n",
       "      <td>0</td>\n",
       "      <td>0</td>\n",
       "      <td>0</td>\n",
       "      <td>0</td>\n",
       "      <td>0</td>\n",
       "    </tr>\n",
       "    <tr>\n",
       "      <th>1</th>\n",
       "      <td>0</td>\n",
       "      <td>0</td>\n",
       "      <td>0</td>\n",
       "      <td>0</td>\n",
       "      <td>0</td>\n",
       "      <td>0</td>\n",
       "      <td>0</td>\n",
       "      <td>0</td>\n",
       "      <td>0</td>\n",
       "      <td>0</td>\n",
       "      <td>...</td>\n",
       "      <td>0</td>\n",
       "      <td>0</td>\n",
       "      <td>0</td>\n",
       "      <td>0</td>\n",
       "      <td>0</td>\n",
       "      <td>0</td>\n",
       "      <td>0</td>\n",
       "      <td>0</td>\n",
       "      <td>0</td>\n",
       "      <td>0</td>\n",
       "    </tr>\n",
       "    <tr>\n",
       "      <th>2</th>\n",
       "      <td>1</td>\n",
       "      <td>0</td>\n",
       "      <td>0</td>\n",
       "      <td>0</td>\n",
       "      <td>0</td>\n",
       "      <td>0</td>\n",
       "      <td>0</td>\n",
       "      <td>0</td>\n",
       "      <td>0</td>\n",
       "      <td>0</td>\n",
       "      <td>...</td>\n",
       "      <td>0</td>\n",
       "      <td>0</td>\n",
       "      <td>0</td>\n",
       "      <td>0</td>\n",
       "      <td>0</td>\n",
       "      <td>0</td>\n",
       "      <td>0</td>\n",
       "      <td>0</td>\n",
       "      <td>0</td>\n",
       "      <td>0</td>\n",
       "    </tr>\n",
       "    <tr>\n",
       "      <th>3</th>\n",
       "      <td>4</td>\n",
       "      <td>0</td>\n",
       "      <td>0</td>\n",
       "      <td>0</td>\n",
       "      <td>0</td>\n",
       "      <td>0</td>\n",
       "      <td>0</td>\n",
       "      <td>0</td>\n",
       "      <td>0</td>\n",
       "      <td>0</td>\n",
       "      <td>...</td>\n",
       "      <td>0</td>\n",
       "      <td>0</td>\n",
       "      <td>0</td>\n",
       "      <td>0</td>\n",
       "      <td>0</td>\n",
       "      <td>0</td>\n",
       "      <td>0</td>\n",
       "      <td>0</td>\n",
       "      <td>0</td>\n",
       "      <td>0</td>\n",
       "    </tr>\n",
       "    <tr>\n",
       "      <th>4</th>\n",
       "      <td>0</td>\n",
       "      <td>0</td>\n",
       "      <td>0</td>\n",
       "      <td>0</td>\n",
       "      <td>0</td>\n",
       "      <td>0</td>\n",
       "      <td>0</td>\n",
       "      <td>0</td>\n",
       "      <td>0</td>\n",
       "      <td>0</td>\n",
       "      <td>...</td>\n",
       "      <td>0</td>\n",
       "      <td>0</td>\n",
       "      <td>0</td>\n",
       "      <td>0</td>\n",
       "      <td>0</td>\n",
       "      <td>0</td>\n",
       "      <td>0</td>\n",
       "      <td>0</td>\n",
       "      <td>0</td>\n",
       "      <td>0</td>\n",
       "    </tr>\n",
       "  </tbody>\n",
       "</table>\n",
       "<p>5 rows × 785 columns</p>\n",
       "</div>"
      ],
      "text/plain": [
       "   label  pixel0  pixel1  pixel2  pixel3  pixel4  pixel5  pixel6  pixel7  \\\n",
       "0      1       0       0       0       0       0       0       0       0   \n",
       "1      0       0       0       0       0       0       0       0       0   \n",
       "2      1       0       0       0       0       0       0       0       0   \n",
       "3      4       0       0       0       0       0       0       0       0   \n",
       "4      0       0       0       0       0       0       0       0       0   \n",
       "\n",
       "   pixel8  ...  pixel774  pixel775  pixel776  pixel777  pixel778  pixel779  \\\n",
       "0       0  ...         0         0         0         0         0         0   \n",
       "1       0  ...         0         0         0         0         0         0   \n",
       "2       0  ...         0         0         0         0         0         0   \n",
       "3       0  ...         0         0         0         0         0         0   \n",
       "4       0  ...         0         0         0         0         0         0   \n",
       "\n",
       "   pixel780  pixel781  pixel782  pixel783  \n",
       "0         0         0         0         0  \n",
       "1         0         0         0         0  \n",
       "2         0         0         0         0  \n",
       "3         0         0         0         0  \n",
       "4         0         0         0         0  \n",
       "\n",
       "[5 rows x 785 columns]"
      ]
     },
     "execution_count": 1,
     "metadata": {},
     "output_type": "execute_result"
    }
   ],
   "source": [
    "%matplotlib inline\n",
    "import pandas as pd\n",
    "import numpy as np\n",
    "import matplotlib.pyplot as plt\n",
    "\n",
    "train = pd.read_csv(r\"C:\\Users\\SOUMYA\\Downloads\\train.csv\")\n",
    "train.head()"
   ]
  },
  {
   "cell_type": "code",
   "execution_count": 2,
   "metadata": {
    "_cell_guid": "f4e4e39e-2568-465a-a952-c600054024c4",
    "_uuid": "2b10b948e97be78865ee3e77390a101bf9f67c5a"
   },
   "outputs": [],
   "source": [
    "x_train = train.iloc[:, 1:].values.astype('float32')\n",
    "labels = train.iloc[:, 0].values.astype('int32')"
   ]
  },
  {
   "cell_type": "code",
   "execution_count": 3,
   "metadata": {
    "_cell_guid": "dd53f6eb-f47e-4cfc-9926-1dee65c018da",
    "_uuid": "58ef34ecce0fa55c8abdd72b3b4e14e96ffe220c"
   },
   "outputs": [
    {
     "data": {
      "image/png": "[encoded data removed]",
      "text/plain": [
       "<Figure size 720x720 with 5 Axes>"
      ]
     },
     "metadata": {
      "needs_background": "light"
     },
     "output_type": "display_data"
    }
   ],
   "source": [
    "fig = plt.figure(figsize=(10, 10))\n",
    "for i in range(5):\n",
    "    fig.add_subplot(1, 5, i+1)\n",
    "    plt.title('Label: {label}'.format(label=labels[i]))\n",
    "    plt.imshow(x_train[i].reshape(28, 28), cmap='Greys')"
   ]
  },
  {
   "cell_type": "code",
   "execution_count": 4,
   "metadata": {
    "_cell_guid": "371d1e44-a620-4909-8972-6a304884257a",
    "_uuid": "7f9baab69adf5616cc952a1a0d7ea94699f10cc9"
   },
   "outputs": [
    {
     "data": {
      "text/plain": [
       "matrix([[0., 1., 0., ..., 0., 0., 0.],\n",
       "        [1., 0., 0., ..., 0., 0., 0.],\n",
       "        [0., 1., 0., ..., 0., 0., 0.],\n",
       "        ...,\n",
       "        [0., 0., 0., ..., 1., 0., 0.],\n",
       "        [0., 0., 0., ..., 0., 0., 0.],\n",
       "        [0., 0., 0., ..., 0., 0., 1.]])"
      ]
     },
     "execution_count": 4,
     "metadata": {},
     "output_type": "execute_result"
    }
   ],
   "source": [
    "y_train = np.zeros([labels.shape[0], 10])\n",
    "for i in range(labels.shape[0]):\n",
    "        y_train[i][labels[i]] = 1\n",
    "y_train.view(type=np.matrix)"
   ]
  },
  {
   "cell_type": "code",
   "execution_count": 5,
   "metadata": {
    "_cell_guid": "5ab0d769-424c-4fd7-93ab-8c9073ff2143",
    "_uuid": "25196426bd8788e6d5f7f6fa1c30c88fcbcad104"
   },
   "outputs": [
    {
     "name": "stdout",
     "output_type": "stream",
     "text": [
      "Train size: (33600, 784), Test size: (8400, 784)\n",
      "Train label size: (33600, 10), Test label size: (8400, 10)\n"
     ]
    }
   ],
   "source": [
    "from sklearn.model_selection import train_test_split\n",
    "\n",
    "x_train, x_test, y_train, y_test = train_test_split(x_train, y_train, test_size=0.2)\n",
    "print('Train size: {train}, Test size: {test}'.format(train=x_train.shape, test=x_test.shape))\n",
    "print('Train label size: {train}, Test label size: {test}'.format(train=y_train.shape, test=y_test.shape))"
   ]
  },
  {
   "cell_type": "code",
   "execution_count": 6,
   "metadata": {
    "_cell_guid": "1cffc4e5-a973-4945-9038-fb3e80a9035f",
    "_uuid": "a74a9adf2e4155495ad5fe47ab847463735b918d"
   },
   "outputs": [
    {
     "name": "stdout",
     "output_type": "stream",
     "text": [
      "(784, 50)\n",
      "Input Weight shape: (784, 50)\n",
      "[ 0.04774193 -0.43443261 -0.81779063  0.52325136 -0.19158825 -0.32097785\n",
      "  0.73195721  0.93991867 -0.43607131  0.60071807  0.56005628  0.56648219\n",
      "  0.70536228  0.91815987 -0.05499314 -0.38841719 -0.85576592  0.97412909\n",
      "  0.95171472  0.32573969  0.56449557 -0.66278953 -0.46275173  0.16682143\n",
      " -0.65673369 -0.65668636  0.12947974  0.54496471  0.88111667 -0.60655388\n",
      " -0.4308064   0.68371998  0.04317185  0.24706987 -0.35922893 -0.06044745\n",
      " -0.11594359 -0.0228657   0.65894306 -0.90841067  0.38355307 -0.55153501\n",
      "  0.85604701  0.22034037  0.39045415 -0.61335737 -0.59034282  0.27293008\n",
      "  0.37502669  0.30005068]\n",
      "[ 0.07016378 -0.09449914  0.78728817 -0.75739603 -0.32736021 -0.70409535\n",
      " -0.30891706 -0.60884966  0.31535593 -0.84810006 -0.56391212 -0.5853664\n",
      "  0.06657064 -0.02259649  0.82477466  0.58005827 -0.36445249 -0.58237357\n",
      "  0.84611875 -0.32837236 -0.24531507 -0.25148834 -0.63649113  0.56023312\n",
      " -0.31326927  0.44167515  0.10991646  0.4672573   0.66873694  0.16273755\n",
      " -0.55969306  0.90102239 -0.81987569  0.25567022  0.17252187  0.79481587\n",
      " -0.22168545  0.61164101  0.42191275  0.52373414 -0.57999197  0.76617228\n",
      "  0.52920893 -0.75750352  0.63266373  0.857605    0.70252387  0.11497901\n",
      "  0.76299413 -0.94184287]\n",
      "[ 0.18128099  0.94654559 -0.54912601 -0.66104296 -0.92237914  0.32994925\n",
      "  0.25857407  0.8564435   0.10100869  0.95617178 -0.17190747 -0.94231346\n",
      "  0.58295575  0.01798444  0.07116656  0.77505777 -0.54022738  0.30700568\n",
      "  0.04715876  0.52192129  0.62138648 -0.66350762 -0.7922557  -0.71578425\n",
      " -0.73478467  0.16877029  0.64352754  0.33973609 -0.87198639  0.29781071\n",
      " -0.58675207 -0.58894851 -0.22600167 -0.86365067 -0.82793363 -0.58449426\n",
      " -0.85237087 -0.56003054  0.2450159  -0.15198425  0.46314372 -0.09489241\n",
      " -0.86274179  0.75179724  0.39393864  0.26513801  0.67325701 -0.14709989\n",
      "  0.68562614  0.9688585 ]\n",
      "[-0.99443303  0.63441662 -0.99333428  0.77311466 -0.49039329 -0.22171085\n",
      " -0.23606181  0.50581314  0.3504024  -0.92459651  0.82051956 -0.18167405\n",
      "  0.59083194  0.92634957 -0.99639139  0.17715551 -0.06303116  0.81716643\n",
      "  0.21624814 -0.72246788  0.16154661 -0.72141575 -0.12659978  0.96354011\n",
      "  0.40801112  0.89066672  0.04879596 -0.71880643  0.00111758 -0.97009015\n",
      " -0.943927   -0.90651646  0.54262547  0.50647996 -0.91964328  0.71750289\n",
      " -0.14274871 -0.96465026 -0.33232125  0.4688944   0.23695741 -0.52319295\n",
      " -0.31108293 -0.04216583 -0.99189887  0.67374733  0.90708792  0.82781333\n",
      " -0.30846274  0.89681088]\n",
      "[ 0.42961345 -0.7386161  -0.96005032  0.21937881 -0.80104803  0.84875652\n",
      "  0.04383411  0.87126731  0.53481038 -0.29377215  0.4844059   0.52047222\n",
      "  0.21002827 -0.29595024 -0.17810786  0.77840196 -0.48431818 -0.32393245\n",
      "  0.20046292  0.33474056 -0.69542963  0.17228725  0.34318942 -0.10637867\n",
      "  0.47839839  0.46575972  0.63199404  0.59414252 -0.27437838 -0.75900758\n",
      "  0.05367358  0.55322074  0.86513555  0.94542454 -0.32558886 -0.32786452\n",
      "  0.58121143 -0.40291928  0.05870993  0.83291398 -0.80958519 -0.37367061\n",
      " -0.81186073 -0.63218763  0.84385921  0.45022731  0.78815069 -0.01486725\n",
      "  0.83230029  0.85113584]\n"
     ]
    }
   ],
   "source": [
    "INPUT_LENGHT = x_train.shape[1] \n",
    "HIDDEN_UNITS = 50\n",
    "Win = np.genfromtxt('output.csv')\n",
    "print (Win.shape)\n",
    "print('Input Weight shape: {shape}'.format(shape=Win.shape))\n",
    "for i in range (5):\n",
    "    print(Win[i][:])"
   ]
  },
  {
   "cell_type": "code",
   "execution_count": 7,
   "metadata": {
    "_cell_guid": "3a4a16e9-4061-49ad-8d3f-384c8640537a",
    "_uuid": "3efcb4c75d2af1cd55a139c70659ee52d5f64116"
   },
   "outputs": [],
   "source": [
    "def input_to_hidden(x):\n",
    "    a = np.dot(x, Win)\n",
    "    a = np.maximum(a, 0, a)\n",
    "    return a"
   ]
  },
  {
   "cell_type": "code",
   "execution_count": 8,
   "metadata": {
    "_cell_guid": "a876398b-2933-475f-926c-b2ae9b7f2c3e",
    "_uuid": "87f575a72eda25a086c29426153501c59578bba1"
   },
   "outputs": [
    {
     "name": "stdout",
     "output_type": "stream",
     "text": [
      "Output weights shape: (50, 10)\n"
     ]
    }
   ],
   "source": [
    "X = input_to_hidden(x_train)\n",
    "Xt = np.transpose(X)\n",
    "Wout = np.dot(np.linalg.inv(np.dot(Xt, X)), np.dot(Xt, y_train))\n",
    "print('Output weights shape: {shape}'.format(shape=Wout.shape))"
   ]
  },
  {
   "cell_type": "code",
   "execution_count": 9,
   "metadata": {
    "_cell_guid": "b94e986e-94f2-44a5-8562-bc37dfc4a1b0",
    "_uuid": "e7232da411d8bf3c06a929d14824f9bb1f699ddd"
   },
   "outputs": [],
   "source": [
    "def predict(x):\n",
    "    x = input_to_hidden(x)\n",
    "    y = np.dot(x, Wout)\n",
    "    return y"
   ]
  },
  {
   "cell_type": "code",
   "execution_count": 10,
   "metadata": {
    "_cell_guid": "a7d6a3d1-e86a-469d-a5a6-e571706a6a3d",
    "_uuid": "d55025c4ed756f9800dfb8ab3fd85178d66b91f9",
    "scrolled": true
   },
   "outputs": [
    {
     "name": "stdout",
     "output_type": "stream",
     "text": [
      "Accuracy: 0.732381\n"
     ]
    }
   ],
   "source": [
    "y = predict(x_test)\n",
    "correct = 0\n",
    "total = y.shape[0]\n",
    "for i in range(total):\n",
    "    predicted = np.argmax(y[i])\n",
    "    test = np.argmax(y_test[i])\n",
    "    correct = correct + (1 if predicted == test else 0)\n",
    "print('Accuracy: {:f}'.format(correct/total))"
   ]
  },
  {
   "cell_type": "code",
   "execution_count": 11,
   "metadata": {},
   "outputs": [
    {
     "data": {
      "image/png": "[encoded data removed]",
      "text/plain": [
       "<Figure size 720x720 with 5 Axes>"
      ]
     },
     "metadata": {
      "needs_background": "light"
     },
     "output_type": "display_data"
    }
   ],
   "source": [
    "fig = plt.figure(figsize=(10, 10))\n",
    "for i in range(5):\n",
    "    fig.add_subplot(1, 5, i+1)\n",
    "    plt.imshow(x_test[i].reshape(28, 28), cmap='Greys')\n",
    "    "
   ]
  },
  {
   "cell_type": "code",
   "execution_count": 12,
   "metadata": {},
   "outputs": [
    {
     "name": "stdout",
     "output_type": "stream",
     "text": [
      "4 4 9 0 0 "
     ]
    }
   ],
   "source": [
    "for i in range (5):\n",
    "    print(np.argmax(y[i]), end = ' ')"
   ]
  },
  {
   "cell_type": "code",
   "execution_count": null,
   "metadata": {},
   "outputs": [],
   "source": []
  }
 ],
 "metadata": {
  "colab": {
   "default_view": {},
   "name": "ELM_Notebook.ipynb",
   "provenance": [],
   "toc_visible": true,
   "version": "0.3.2",
   "views": {}
  },
  "kernelspec": {
   "display_name": "Python 3",
   "language": "python",
   "name": "python3"
  },
  "language_info": {
   "codemirror_mode": {
    "name": "ipython",
    "version": 3
   },
   "file_extension": ".py",
   "mimetype": "text/x-python",
   "name": "python",
   "nbconvert_exporter": "python",
   "pygments_lexer": "ipython3",
   "version": "3.7.4"
  }
 },
 "nbformat": 4,
 "nbformat_minor": 1
}
