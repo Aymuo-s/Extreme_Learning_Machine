{
 "cells": [
  {
   "cell_type": "code",
   "execution_count": 4,
   "metadata": {},
   "outputs": [
    {
     "name": "stdout",
     "output_type": "stream",
     "text": [
      "Iters.       Best  Best(Mean)  Best(STD)\n",
      "    0  1.295E+04  1.307E+04  7.331E+01\n",
      "Iters.       Best  Best(Mean)  Best(STD)\n",
      "  100  1.295E+04  1.307E+04  7.331E+01\n",
      "Found best position: [ 0.04774193 -0.43443261 -0.81779063 ... -0.41012581 -0.43721177\n",
      " -0.64729631]\n"
     ]
    }
   ],
   "source": [
    "import numpy as np\n",
    "from qpso import QDPSO\n",
    "\n",
    "\n",
    "def sphere(args):\n",
    "    f = sum([np.power(x, 2.) for x in args])\n",
    "    return f\n",
    "\n",
    "\n",
    "def log(s):\n",
    "    best_value = [p.best_value for p in s.particles()]\n",
    "    best_value_avg = np.mean(best_value)\n",
    "    best_value_std = np.std(best_value)\n",
    "    print(\"{0: >5}  {1: >9}  {2: >9}  {3: >9}\".format(\"Iters.\", \"Best\", \"Best(Mean)\", \"Best(STD)\"))\n",
    "    print(\"{0: >5}  {1: >9.3E}  {2: >9.3E}  {3: >9.3E}\".format(s.iters, s.gbest_value, best_value_avg, best_value_std))\n",
    "\n",
    "\n",
    "NParticle = 40\n",
    "MaxIters = 100\n",
    "NDim = 50*784\n",
    "bounds = [(-1, 1) for i in range(0, NDim)]\n",
    "g = 0.96\n",
    "s = QDPSO(sphere, NParticle, NDim, bounds, MaxIters, g)\n",
    "s.update(callback=log, interval=100)\n",
    "print(\"Found best position: {0}\".format(s.gbest))"
   ]
  },
  {
   "cell_type": "code",
   "execution_count": 10,
   "metadata": {},
   "outputs": [],
   "source": [
    "import numpy as np\n",
    "np.savetxt( 'output.csv', s.gbest.reshape(784,50))"
   ]
  },
  {
   "cell_type": "code",
   "execution_count": null,
   "metadata": {},
   "outputs": [],
   "source": []
  }
 ],
 "metadata": {
  "kernelspec": {
   "display_name": "Python 3",
   "language": "python",
   "name": "python3"
  },
  "language_info": {
   "codemirror_mode": {
    "name": "ipython",
    "version": 3
   },
   "file_extension": ".py",
   "mimetype": "text/x-python",
   "name": "python",
   "nbconvert_exporter": "python",
   "pygments_lexer": "ipython3",
   "version": "3.7.4"
  }
 },
 "nbformat": 4,
 "nbformat_minor": 4
}
